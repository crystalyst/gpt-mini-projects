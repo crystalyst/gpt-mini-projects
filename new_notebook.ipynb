{
 "cells": [
  {
   "cell_type": "code",
   "execution_count": 3,
   "metadata": {},
   "outputs": [
    {
     "data": {
      "text/plain": [
       "AIMessageChunk(content=\"As a basketball coach, when facing the Milwaukee Bucks and their strong defense, it's important to have a well-rounded game plan that can effectively counter their defensive prowess. Here's a tailored game plan for your team, utilizing the strengths of Stephen Curry and Jimmy Butler:\\n\\n1. **Utilize Stephen Curry's Shooting**: Stephen Curry is known for his exceptional shooting range and ability to score from anywhere on the court. Use Curry's shooting skills to stretch the Bucks' defense and force them to defend him closely, creating opportunities for driving lanes and open shots for teammates.\\n\\n2. **Pick-and-Roll with Curry and Butler**: Utilize the pick-and-roll play with Curry as the ball handler and Butler as the screener. This will force the Bucks to make decisions on how to defend both players, creating mismatches and open looks for either Curry's shooting or Butler's driving ability.\\n\\n3. **Ball Movement and Off-Ball Movement**: Encourage constant ball movement and off-ball movement to keep the Bucks' defense scrambling. Utilize Butler's cutting ability and Curry's off-ball screens to create open scoring opportunities for both players and their teammates.\\n\\n4. **Defensive Intensity**: Emphasize strong defensive effort and communication to disrupt the Bucks' offensive flow. Utilize Butler's defensive prowess to guard key players on the Bucks and force turnovers that can lead to fast-break opportunities for Curry and the team.\\n\\n5. **Rebounding**: Focus on dominating the boards to limit the Bucks' second-chance opportunities. Utilize Butler's rebounding ability to secure defensive rebounds and start fast breaks to catch the Bucks off guard.\\n\\n6. **Bench Contribution**: Utilize the bench players effectively to provide energy and scoring when Curry and Butler are resting. Have a mix of shooters, defenders, and playmakers to maintain the team's performance level throughout the game.\\n\\nBy incorporating these strategies and utilizing the strengths of Stephen Curry and Jimmy Butler, your team can effectively challenge the Milwaukee Bucks' strong defense and increase your chances of success on the court. Good luck!\")"
      ]
     },
     "execution_count": 3,
     "metadata": {},
     "output_type": "execute_result"
    }
   ],
   "source": [
    "from langchain.chat_models import ChatOpenAI\n",
    "from langchain.prompts import ChatPromptTemplate\n",
    "from langchain.callbacks import StdOutCallbackHandler\n",
    "\n",
    "chat = ChatOpenAI(temperature=0.1, streaming=True, callbacks=[StdOutCallbackHandler()])\n",
    "\n",
    "chef_prompt= ChatPromptTemplate.from_messages([\n",
    "    (\"system\", \"You are a world-class basketball player who has a similar playstyle like Jimmy Butler. You provide a very effective gameplan to attack opponent offensively.\"),\n",
    "    (\"human\", \"I want to attack {nba_team}. Please give me an effective gameplan using your playstyle.\")\n",
    "])\n",
    "\n",
    "chef_chain = chef_prompt | chat\n",
    "\n",
    "basketball_prompt = ChatPromptTemplate.from_messages([\n",
    "    (\"system\", \"You are a basketball coach who coaches the basketball team that uses Stephen Curry and Jimmy Butler as their key players. You need to find an effective game plan and type of players that can effectively play against the opponent.\"),\n",
    "    (\"human\", \"I want a plan on {directive}\")\n",
    "])\n",
    "\n",
    "second_chain = basketball_prompt | chat\n",
    "\n",
    "final_chain = {\"directive\" : chef_chain} | second_chain\n",
    "\n",
    "final_chain.invoke({\n",
    "    \"nba_team\": \"milwaukee bucks\"\n",
    "})\n"
   ]
  }
 ],
 "metadata": {
  "kernelspec": {
   "display_name": "env",
   "language": "python",
   "name": "python3"
  },
  "language_info": {
   "codemirror_mode": {
    "name": "ipython",
    "version": 3
   },
   "file_extension": ".py",
   "mimetype": "text/x-python",
   "name": "python",
   "nbconvert_exporter": "python",
   "pygments_lexer": "ipython3",
   "version": "3.11.4"
  }
 },
 "nbformat": 4,
 "nbformat_minor": 2
}
