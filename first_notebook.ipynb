{
 "cells": [
  {
   "cell_type": "code",
   "execution_count": null,
   "metadata": {},
   "outputs": [
    {
     "data": {
      "text/plain": [
       "AIMessageChunk(content=\"Java code compiles,\\nObject-oriented bliss,\\nWrite once, run anywhere.\\n\\nExplanation:\\nThis Haiku beautifully captures the essence of Java programming language. The first line talks about the process of compiling Java code, which is a crucial step in turning human-readable code into machine-executable instructions. The second line praises Java's object-oriented nature, highlighting its ability to model real-world concepts using classes and objects. The final line emphasizes Java's platform independence, as Java programs can be written on one system and run on any other system with a Java Virtual Machine (JVM) installed.\")"
      ]
     },
     "execution_count": 2,
     "metadata": {},
     "output_type": "execute_result"
    }
   ],
   "source": [
    "from langchain.chat_models import ChatOpenAI\n",
    "from langchain.prompts import ChatPromptTemplate\n",
    "from langchain.callbacks import StdOutCallbackHandler\n",
    "\n",
    "chat = ChatOpenAI(temperature=0.1, streaming=True, callbacks=[StdOutCallbackHandler()])\n",
    "\n",
    "haiku_prompt= ChatPromptTemplate.from_messages([\n",
    "    (\"system\", \"You are specialized in writing Haikus about programming languages.\"),\n",
    "    (\"human\", \"I want to write in {programming_language}\")\n",
    "])\n",
    "\n",
    "haiku_chain = haiku_prompt | chat\n",
    "\n",
    "interpretation_prompt = ChatPromptTemplate.from_messages([\n",
    "    (\"system\", \"You are specialized in explaining Haikus. You need to reply with the Haiku written in Java, and also provide its explanation in plain English.\"),\n",
    "    (\"human\", \"{output}\")\n",
    "])\n",
    "\n",
    "interpretation_chain = interpretation_prompt | chat\n",
    "\n",
    "final_chain = {\"output\": haiku_chain} | interpretation_chain\n",
    "\n",
    "final_chain.invoke({\n",
    "    \"programming_language\": \"Java\"\n",
    "})"
   ]
  }
 ],
 "metadata": {
  "kernelspec": {
   "display_name": "env",
   "language": "python",
   "name": "python3"
  },
  "language_info": {
   "codemirror_mode": {
    "name": "ipython",
    "version": 3
   },
   "file_extension": ".py",
   "mimetype": "text/x-python",
   "name": "python",
   "nbconvert_exporter": "python",
   "pygments_lexer": "ipython3",
   "version": "3.11.4"
  }
 },
 "nbformat": 4,
 "nbformat_minor": 2
}
